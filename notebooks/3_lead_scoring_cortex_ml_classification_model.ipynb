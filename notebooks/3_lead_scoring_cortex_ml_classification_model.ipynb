{
  "cells": [
    {
      "cell_type": "markdown",
      "id": "430ebdf6-dab3-4096-aec8-26c9fe17f603",
      "metadata": {
        "collapsed": false,
        "name": "cell1"
      },
      "source": [
        "# Prepare data and create the model\n",
        "\n",
        "Now we have data that mimics what we might have after a company has created a Customer 360. We have demographic data and a total of all orders the customer has placed, where that total is a function of the demographic data we have gathered. Next, we will create a view which will represent the data used to train the value, then we will create the model.\n",
        "\n",
        "## Create training data view\n",
        "\n",
        "We run the following to create a view which limits the columns selected (we do not use the email address or the join date), and we limit only to the longer-term customers who will be used to train the model. Finally, we bucket customers into bronze, silver, and gold groups using the total order value column."
      ]
    },
    {
      "cell_type": "code",
      "execution_count": null,
      "id": "c695373e-ac74-4b62-a1f1-08206cbd5c81",
      "metadata": {
        "codeCollapsed": false,
        "collapsed": true,
        "jupyter": {
          "outputs_hidden": true
        },
        "language": "python",
        "name": "cell2"
      },
      "outputs": [],
      "source": [
        "from snowflake.snowpark.context import get_active_session"
      ]
    },
    {
      "cell_type": "code",
      "execution_count": null,
      "id": "4ec74871",
      "metadata": {},
      "outputs": [],
      "source": [
        "session = get_active_session()"
      ]
    },
    {
      "cell_type": "code",
      "execution_count": null,
      "id": "acbae754",
      "metadata": {},
      "outputs": [],
      "source": [
        "CREATE SCHEMA DEMO;"
      ]
    },
    {
      "cell_type": "code",
      "execution_count": null,
      "id": "75e3c790",
      "metadata": {},
      "outputs": [],
      "source": [
        "GRANT CREATE SNOWFLAKE.ML.CLASSIFICATION ON SCHEMA churn_prod.DEMO TO ROLE churn_data_scientist;"
      ]
    },
    {
      "cell_type": "code",
      "execution_count": null,
      "id": "6fdacddf",
      "metadata": {},
      "outputs": [],
      "source": [
        "-- create a view to train the model\n",
        "create or replace view customer_training\n",
        "as select age_band, household_income, marital_status, household_size, case when total_order_value<10 then 'BRONZE'\n",
        "    when total_order_value<=25 and total_order_value>10 then 'SILVER'\n",
        "    else 'GOLD' END as segment\n",
        "from customers\n",
        "where join_date<'2024-02-11'::date;"
      ]
    },
    {
      "cell_type": "code",
      "execution_count": null,
      "id": "fcfd2753",
      "metadata": {},
      "outputs": [],
      "source": [
        "-- verify the training view\n",
        "select * from customer_training;"
      ]
    },
    {
      "cell_type": "markdown",
      "id": "a23cf6b4",
      "metadata": {},
      "source": [
        "## Build the model\n",
        "We can create the classification model by running the following statement."
      ]
    },
    {
      "cell_type": "code",
      "execution_count": null,
      "id": "f0b4431b",
      "metadata": {},
      "outputs": [],
      "source": [
        "-- create the classification model\n",
        "CREATE OR REPLACE SNOWFLAKE.ML.CLASSIFICATION customer_classification_model(\n",
        "    INPUT_DATA => SYSTEM$REFERENCE('view', 'customer_training'),\n",
        "    TARGET_COLNAME => 'segment'\n",
        ");\n"
      ]
    },
    {
      "cell_type": "markdown",
      "id": "94200c25",
      "metadata": {},
      "source": [
        "Notice that we point the model at the view we created, and we specify the column containing the bronze, silver, or gold segmentation. We can verify that the model is created by running the following."
      ]
    },
    {
      "cell_type": "code",
      "execution_count": null,
      "id": "a532a6db",
      "metadata": {},
      "outputs": [],
      "source": [
        "SHOW SNOWFLAKE.ML.CLASSIFICATION;"
      ]
    },
    {
      "cell_type": "markdown",
      "id": "5beaae7f",
      "metadata": {},
      "source": [
        "## Save the model predictions to a table\n",
        "\n",
        "Next, we will run the predictions across our entire customers table, saving the results to a table with the email address, allowing us to join later, when we use the predictions to build audiences.\n"
      ]
    },
    {
      "cell_type": "code",
      "execution_count": null,
      "id": "932a57a1",
      "metadata": {},
      "outputs": [],
      "source": [
        "-- run prediction and save results\n",
        "CREATE OR REPLACE TABLE customer_predictions AS\n",
        "SELECT email, customer_classification_model!PREDICT(INPUT_DATA => object_construct(*)) as predictions\n",
        "from customers;"
      ]
    },
    {
      "cell_type": "markdown",
      "id": "60c16d7e",
      "metadata": {},
      "source": [
        "Next we can run the following query to verify that our predictions have been made correctly.\n"
      ]
    },
    {
      "cell_type": "code",
      "execution_count": null,
      "id": "cdbb41f8",
      "metadata": {},
      "outputs": [],
      "source": [
        "-- verify the created predictions\n",
        "SELECT * FROM customer_predictions;"
      ]
    },
    {
      "cell_type": "markdown",
      "id": "7c9966ef",
      "metadata": {},
      "source": [
        "## Creating audiences\n",
        "\n",
        "Once we have run these predictions, we can use the predictions to build audiences. In some flows, the audiences could be saved, or a reverse ETL tool might query for them directly. The email addresses could be used to activate the audiences across both paid (social, CTV or programmatic platforms) or owned (email, website) marketing channels.\n",
        "\n",
        "## High-value new customers\n",
        "\n",
        "The following query can now be run to create a list of new customers who are likely to become \"GOLD\" customers in the future.\n"
      ]
    },
    {
      "cell_type": "code",
      "execution_count": null,
      "id": "69ffd33e",
      "metadata": {},
      "outputs": [],
      "source": [
        "\n",
        "-- new customers likely to be gold\n",
        "select c.email\n",
        "from customers c\n",
        " inner join customer_predictions p on c.email=p.email\n",
        "where c.join_date>='2024-02-11'::date and predictions:class='GOLD';\n",
        "If we wanted to customize the confidence at which we want to consider them likely gold customers, we could use the probabilities saved in the predictions.\n"
      ]
    },
    {
      "cell_type": "markdown",
      "id": "1ad64abb",
      "metadata": {},
      "source": [
        "\n",
        "This list of users might be a list we consider worthy of additional marketing, and we may be willing to pay more to show ads to this audience. We also might email this group a coupon code, for instance, to drive to drive additional purchases in the hope that they become regular, loyal customers.\n",
        "\n",
        "## Underutilized existing customers\n",
        "\n",
        "The usage of the model is not limited only to new customers. We can also use the model to find existing customers who, although they are not gold, are similar to customers who are. This could indicate an opportunity to reach out these customers across channels to drive additional purchases.\n"
      ]
    },
    {
      "cell_type": "code",
      "execution_count": null,
      "id": "c0d30325",
      "metadata": {},
      "outputs": [],
      "source": [
        "\n",
        "-- old customers who are not gold but should be\n",
        "select c.email\n",
        "from customers c\n",
        " inner join customer_predictions p on c.email=p.email\n",
        "where c.join_date<'2024-02-11'::date and predictions:class='GOLD'\n",
        " and c.total_order_value<=25;"
      ]
    }
  ],
  "metadata": {
    "kernelspec": {
      "display_name": "Python 3 (ipykernel)",
      "language": "python",
      "name": "python3"
    },
    "language_info": {
      "codemirror_mode": {
        "name": "ipython",
        "version": 3
      },
      "file_extension": ".py",
      "mimetype": "text/x-python",
      "name": "python",
      "nbconvert_exporter": "python",
      "pygments_lexer": "ipython3",
      "version": "3.11.5"
    }
  },
  "nbformat": 4,
  "nbformat_minor": 5
}
